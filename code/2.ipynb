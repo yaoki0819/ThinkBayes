{
 "cells": [
  {
   "cell_type": "code",
   "execution_count": 3,
   "metadata": {},
   "outputs": [],
   "source": [
    "import thinkbayes"
   ]
  },
  {
   "cell_type": "code",
   "execution_count": 6,
   "metadata": {},
   "outputs": [],
   "source": [
    "pmf = thinkbayes.Pmf()\n",
    "pmf.Set('Bowl_1', 0.5)\n",
    "pmf.Set('Bowl_2', 0.5)"
   ]
  },
  {
   "cell_type": "code",
   "execution_count": 7,
   "metadata": {},
   "outputs": [],
   "source": [
    "pmf.Mult('Bowl_1', 0.75)\n",
    "pmf.Mult('Bowl_2', 0.5)"
   ]
  },
  {
   "cell_type": "code",
   "execution_count": 8,
   "metadata": {},
   "outputs": [
    {
     "name": "stdout",
     "output_type": "stream",
     "text": [
      "0.6000000000000001\n"
     ]
    }
   ],
   "source": [
    "pmf.Normalize()\n",
    "print(pmf.Prob('Bowl_1'))"
   ]
  },
  {
   "cell_type": "code",
   "execution_count": 9,
   "metadata": {},
   "outputs": [],
   "source": [
    "import cookie2"
   ]
  },
  {
   "cell_type": "code",
   "execution_count": 10,
   "metadata": {},
   "outputs": [
    {
     "name": "stdout",
     "output_type": "stream",
     "text": [
      "Bowl_1 0.6000000000000001\n",
      "Bowl_2 0.4\n"
     ]
    }
   ],
   "source": [
    "for hypo, prob in pmf.Items():\n",
    "    print(hypo, prob)"
   ]
  },
  {
   "cell_type": "code",
   "execution_count": 17,
   "metadata": {},
   "outputs": [
    {
     "name": "stdout",
     "output_type": "stream",
     "text": [
      "Bowl 1 0.6000000000000001\n",
      "Bowl 2 0.4\n"
     ]
    }
   ],
   "source": [
    "hypos = ['Bowl 1', 'Bowl 2']    \n",
    "pmf = cookie2.Cookie(hypos)   # 事前確率の割り当て\n",
    "\n",
    "pmf.Update('vanilla')         # dataの尤度(likelihood)を事前確率に掛ける\n",
    "    \n",
    "for hypo, prob in pmf.Items():\n",
    "    print(hypo, prob)         # 事後確率 "
   ]
  },
  {
   "cell_type": "code",
   "execution_count": 18,
   "metadata": {},
   "outputs": [],
   "source": [
    "import monty"
   ]
  },
  {
   "cell_type": "code",
   "execution_count": 22,
   "metadata": {},
   "outputs": [
    {
     "name": "stdout",
     "output_type": "stream",
     "text": [
      "A 0.3333333333333333\n",
      "B 0.0\n",
      "C 0.6666666666666666\n"
     ]
    }
   ],
   "source": [
    "hypos = 'ABC'\n",
    "pmf = monty.Monty(hypos)\n",
    "\n",
    "data = 'B'\n",
    "pmf.Update(data)\n",
    "\n",
    "for hypo, prob in pmf.Items():\n",
    "    print(hypo, prob)"
   ]
  },
  {
   "cell_type": "markdown",
   "metadata": {},
   "source": [
    "__init__, Update, Printを提供するPmfオブジェクトSuiteを利用したモンティホール問題"
   ]
  },
  {
   "cell_type": "code",
   "execution_count": 24,
   "metadata": {},
   "outputs": [
    {
     "name": "stdout",
     "output_type": "stream",
     "text": [
      "A 0.3333333333333333\n",
      "B 0.0\n",
      "C 0.6666666666666666\n"
     ]
    }
   ],
   "source": [
    "from thinkbayes import Suite\n",
    "class Monty(Suite):\n",
    "    def Likelihood(self, data, hypo):\n",
    "        if hypo == data:\n",
    "            return 0\n",
    "        elif hypo == 'A':\n",
    "            return 0.5\n",
    "        else:\n",
    "            return 1\n",
    "\n",
    "suite = Monty('ABC')\n",
    "suite.Update('B')\n",
    "suite.Print()"
   ]
  },
  {
   "cell_type": "markdown",
   "metadata": {},
   "source": [
    "m&mをSuiteで解く"
   ]
  },
  {
   "cell_type": "code",
   "execution_count": 26,
   "metadata": {
    "tags": []
   },
   "outputs": [
    {
     "name": "stdout",
     "output_type": "stream",
     "text": [
      "A 0.7407407407407407\n",
      "B 0.2592592592592592\n"
     ]
    }
   ],
   "source": [
    "class M_and_M(Suite):\n",
    "\n",
    "        mix94 = dict(brown=30,\n",
    "        yellow=20,\n",
    "        red=20,\n",
    "        green=10,\n",
    "        orange=10,\n",
    "        tan=10,\n",
    "        blue=0)\n",
    "\n",
    "        mix96 = dict(blue=24,\n",
    "        green=20,\n",
    "        orange=16,\n",
    "        yellow=14,\n",
    "        red=13,\n",
    "        brown=13,\n",
    "        tan=0)\n",
    "\n",
    "        hypoA = dict(bag1=mix94, bag2=mix96)\n",
    "        hypoB = dict(bag1=mix96, bag2=mix94)\n",
    "        hypotheses = dict(A=hypoA, B=hypoB)\n",
    "\n",
    "        def Likelihood(self, data, hypo):\n",
    "                bag, color = data\n",
    "                mix = self.hypotheses[hypo][bag]\n",
    "                like = mix[color]\n",
    "                return like\n",
    "\n",
    "\n",
    "suite = M_and_M('AB')\n",
    "\n",
    "suite.Update(('bag1', 'yellow'))\n",
    "suite.Update(('bag2', 'green'))\n",
    "\n",
    "suite.Print()"
   ]
  },
  {
   "cell_type": "code",
   "execution_count": 1,
   "metadata": {},
   "outputs": [],
   "source": [
    "import cookie2_sol"
   ]
  },
  {
   "cell_type": "code",
   "execution_count": null,
   "metadata": {},
   "outputs": [],
   "source": []
  }
 ],
 "metadata": {
  "kernelspec": {
   "display_name": "Python 3",
   "language": "python",
   "name": "python3"
  },
  "language_info": {
   "codemirror_mode": {
    "name": "ipython",
    "version": 3
   },
   "file_extension": ".py",
   "mimetype": "text/x-python",
   "name": "python",
   "nbconvert_exporter": "python",
   "pygments_lexer": "ipython3",
   "version": "3.11.7"
  }
 },
 "nbformat": 4,
 "nbformat_minor": 2
}
